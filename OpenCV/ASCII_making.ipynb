{
 "cells": [
  {
   "cell_type": "code",
   "execution_count": 2,
   "id": "a7c8c894",
   "metadata": {},
   "outputs": [],
   "source": [
    "import cv2\n",
    "import numpy as np\n",
    "import matplotlib.pyplot as plt"
   ]
  },
  {
   "cell_type": "code",
   "execution_count": 30,
   "id": "95d9990b",
   "metadata": {},
   "outputs": [
    {
     "name": "stdout",
     "output_type": "stream",
     "text": [
      "32\n"
     ]
    }
   ],
   "source": [
    "density= \"$@B%8&#*/|()1[]?-_+~<>i!lI;:,^. \"\n",
    "print(len(density))"
   ]
  },
  {
   "cell_type": "code",
   "execution_count": null,
   "id": "d92284b2",
   "metadata": {},
   "outputs": [],
   "source": [
    "img = cv2.imread('image.png')\n",
    " \n",
    "res = cv2.resize(img,None,fx=4, fy=8, interpolation = cv2.INTER_LINEAR)\n",
    "res_rgb= cv2.cvtColor(res, cv2.COLOR_BGR2RGB)\n",
    "plt.imshow(res_rgb)\n",
    "plt.show()"
   ]
  },
  {
   "cell_type": "code",
   "execution_count": null,
   "id": "36aabba8",
   "metadata": {},
   "outputs": [
    {
     "name": "stdout",
     "output_type": "stream",
     "text": [
      "(113, 95)\n"
     ]
    }
   ],
   "source": [
    "img= cv2.imread('ash.png', cv2.IMREAD_GRAYSCALE)\n",
    "res = cv2.resize(img,None,fx=0.25, fy=0.25, interpolation = cv2.INTER_LINEAR)\n",
    "\n",
    "asc= np.empty(res.shape, dtype='U1')\n",
    "density= \"$@B%8&WM#*oahkbdpqwmZO0QLCJUYXzcvunxrjft/|()1[]?-_+~<>i!lI;:,^. \"\n",
    "\n",
    "for i in range(res.shape[0]):\n",
    "    for j in range(res.shape[1]):\n",
    "        asc[i][j]= density[int((res[i][j])/4)]\n",
    "\n",
    "ascii_lines = [''.join(row) for row in asc]\n",
    "ascii_art = '\\n'.join(ascii_lines)\n",
    "\n",
    "with open('ascii_art.txt', 'w') as f:\n",
    "    f.write(ascii_art)"
   ]
  },
  {
   "cell_type": "code",
   "execution_count": 38,
   "id": "29532512",
   "metadata": {},
   "outputs": [],
   "source": [
    "# Track one color\n",
    "cap= cv2.VideoCapture(0)\n",
    "\n",
    "while(1):\n",
    "\n",
    "    # Take each frame\n",
    "    _, frame= cap.read()\n",
    "\n",
    "    # Convert to HSV\n",
    "    blk= cv2.cvtColor(frame, cv2.COLOR_BGR2GRAY)\n",
    "    res = cv2.resize(blk, None, fx=0.125, fy=0.125, interpolation = cv2.INTER_LINEAR)\n",
    "\n",
    "    # Mask with ASCII\n",
    "    density= \"$@B%8&#*/|()1[]?-_+~<>i!lI;:,^. \"\n",
    "    \n",
    "    asc= np.empty(res.shape, dtype='U1')\n",
    "\n",
    "    for i in range(res.shape[0]):\n",
    "        for j in range(res.shape[1]):\n",
    "            asc[i][j]= density[int((res[i][j])/8)]\n",
    "\n",
    "    ascii_lines = [''.join(row) for row in asc]\n",
    "    ascii_art = '\\n'.join(ascii_lines)\n",
    "\n",
    "    with open('ascii_art.txt', 'w') as f:\n",
    "        f.write(ascii_art)\n",
    "    \n",
    "    cv2.imshow('res', blk)\n",
    "\n",
    "    if cv2.waitKey(1) & 0xFF == 27:  # ESC to quit\n",
    "        break\n",
    "\n",
    "cap.release()\n",
    "cv2.destroyAllWindows()"
   ]
  },
  {
   "cell_type": "code",
   "execution_count": 61,
   "id": "da62bd30",
   "metadata": {},
   "outputs": [],
   "source": [
    "import cv2\n",
    "import numpy as np\n",
    "\n",
    "# ASCII characters from dark to light\n",
    "density = \"$@B%8&#*/|()1[]?-_+~<>i!lI;:,^. \"\n",
    "density= density[::-1]\n",
    "\n",
    "cap = cv2.VideoCapture(0)\n",
    "\n",
    "# Font settings\n",
    "font = cv2.FONT_HERSHEY_SIMPLEX\n",
    "font_scale = 0.4\n",
    "font_thickness = 1\n",
    "char_width = 8\n",
    "char_height = 8\n",
    "\n",
    "while True:\n",
    "    _, frame = cap.read()\n",
    "\n",
    "    # Convert to grayscale and resize\n",
    "    gray = cv2.cvtColor(frame, cv2.COLOR_BGR2GRAY)\n",
    "    small = cv2.resize(gray, (0, 0), fx=0.15, fy=0.15)\n",
    "\n",
    "    h, w = small.shape\n",
    "\n",
    "    out_img = np.zeros((h * char_height, w * char_width, 3), dtype=np.uint8)  # black background\n",
    "\n",
    "    for i in range(h):\n",
    "        for j in range(w):\n",
    "            pixel = small[i, j]\n",
    "            char = density[int(pixel / 8)]\n",
    "            cv2.putText(out_img, char, (j * char_width, (i + 1) * char_height),\n",
    "                        font, font_scale, (255, 255, 255), font_thickness, lineType=cv2.LINE_AA)\n",
    "\n",
    "    cv2.imshow(\"img\", frame)\n",
    "    cv2.imshow(\"Live ASCII Feed\", out_img)\n",
    "\n",
    "    if cv2.waitKey(1) & 0xFF == 27:  # ESC\n",
    "        break\n",
    "\n",
    "cap.release()\n",
    "cv2.destroyAllWindows()\n"
   ]
  },
  {
   "cell_type": "code",
   "execution_count": null,
   "id": "98602e07",
   "metadata": {},
   "outputs": [
    {
     "ename": "",
     "evalue": "",
     "output_type": "error",
     "traceback": [
      "\u001b[1;31mThe Kernel crashed while executing code in the current cell or a previous cell. \n",
      "\u001b[1;31mPlease review the code in the cell(s) to identify a possible cause of the failure. \n",
      "\u001b[1;31mClick <a href='https://aka.ms/vscodeJupyterKernelCrash'>here</a> for more info. \n",
      "\u001b[1;31mView Jupyter <a href='command:jupyter.viewOutput'>log</a> for further details."
     ]
    }
   ],
   "source": [
    "import cv2\n",
    "import numpy as np\n",
    "\n",
    "# ASCII characters from dark to light\n",
    "density = \"$@B%8&#*/|()1[]?-_+~<>i!lI;:,^. \"[::-1]\n",
    "\n",
    "# Start webcam\n",
    "cap = cv2.VideoCapture(0)\n",
    "\n",
    "# Font settings\n",
    "font = cv2.FONT_HERSHEY_SIMPLEX\n",
    "font_scale = 0.4\n",
    "font_thickness = 1\n",
    "char_width = 8\n",
    "char_height = 8\n",
    "\n",
    "while True:\n",
    "    _, frame = cap.read()\n",
    "    gray = cv2.cvtColor(frame, cv2.COLOR_BGR2GRAY)\n",
    "    small = cv2.resize(gray, (0, 0), fx=0.15, fy=0.15)\n",
    "    h, w = small.shape\n",
    "\n",
    "    out_img = np.zeros((h * char_height, w * char_width, 3), dtype=np.uint8)\n",
    "\n",
    "    # ASCII rendering\n",
    "    for i in range(h):\n",
    "        for j in range(w):\n",
    "            # if mask[i][j] == 1:\n",
    "                pixel = small[i, j]\n",
    "                char = density[int(pixel / 255 * (len(density) - 1))]\n",
    "                cv2.putText(out_img, char, (j * char_width, (i + 1) * char_height),\n",
    "                            font, font_scale, (255, 255, 255), font_thickness, lineType=cv2.LINE_AA)\n",
    "\n",
    "    # Show result\n",
    "    cv2.imshow(\"Live ASCII Feed\", out_img)\n",
    "    cv2.imshow('Face Detection', frame)\n",
    "\n",
    "    if cv2.waitKey(1) & 0xFF == 27:\n",
    "        break\n",
    "\n",
    "cap.release()\n",
    "cv2.destroyAllWindows()"
   ]
  }
 ],
 "metadata": {
  "kernelspec": {
   "display_name": "Python 3",
   "language": "python",
   "name": "python3"
  },
  "language_info": {
   "codemirror_mode": {
    "name": "ipython",
    "version": 3
   },
   "file_extension": ".py",
   "mimetype": "text/x-python",
   "name": "python",
   "nbconvert_exporter": "python",
   "pygments_lexer": "ipython3",
   "version": "3.13.0"
  }
 },
 "nbformat": 4,
 "nbformat_minor": 5
}
