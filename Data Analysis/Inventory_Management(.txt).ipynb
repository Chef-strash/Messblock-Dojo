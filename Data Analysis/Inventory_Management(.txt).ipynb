{
 "cells": [
  {
   "cell_type": "code",
   "execution_count": null,
   "id": "ea3ce758",
   "metadata": {},
   "outputs": [],
   "source": [
    "# fd=open('Inventory.txt','w')\n",
    "# fd.close()"
   ]
  },
  {
   "cell_type": "code",
   "execution_count": 59,
   "id": "94b150b7",
   "metadata": {},
   "outputs": [
    {
     "name": "stdout",
     "output_type": "stream",
     "text": [
      "1,5 Star,5,97\n",
      "2,Milky Bar,10,95\n",
      "3,Candy,1,200\n",
      "4,Munch,15,150\n"
     ]
    }
   ],
   "source": [
    "fd=open('Inventory.txt','r')\n",
    "txt=fd.read()\n",
    "print(txt)"
   ]
  },
  {
   "cell_type": "code",
   "execution_count": 60,
   "id": "2552708f",
   "metadata": {},
   "outputs": [
    {
     "name": "stdout",
     "output_type": "stream",
     "text": [
      "['1,5 Star,5,97', '2,Milky Bar,10,95', '3,Candy,1,200', '4,Munch,15,150']\n"
     ]
    },
    {
     "data": {
      "text/plain": [
       "4"
      ]
     },
     "execution_count": 60,
     "metadata": {},
     "output_type": "execute_result"
    }
   ],
   "source": [
    "print(txt.split('\\n'))\n",
    "len(txt.split('\\n'))"
   ]
  },
  {
   "cell_type": "code",
   "execution_count": 66,
   "id": "ecfbe242",
   "metadata": {},
   "outputs": [
    {
     "name": "stdout",
     "output_type": "stream",
     "text": [
      "['1', '5 Star', '5', '100']\n",
      "['2', 'Milky Bar', '10', '100']\n",
      "['3', 'Candy', '1', '200']\n",
      "['4', 'Munch', '15', '150']\n"
     ]
    }
   ],
   "source": [
    "products=txt.split('\\n')\n",
    "for product in products:\n",
    "    print(product.split(','))\n",
    "fd.close()"
   ]
  },
  {
   "cell_type": "code",
   "execution_count": null,
   "id": "f5d87d9e",
   "metadata": {},
   "outputs": [
    {
     "name": "stdout",
     "output_type": "stream",
     "text": [
      "----------------------------------------\n",
      "Product ID:                     1\n",
      "Product Name:                   5 Star\n",
      "Product Quantity:               2\n",
      "Billing Amount:                 10\n",
      "----------------------------------------\n"
     ]
    }
   ],
   "source": [
    "ui_prod_id= int(input(\"Enter Product ID: \"))\n",
    "ui_prod_qt= int(input(\"Enter Product Quantity: \"))\n",
    "\n",
    "updated_prod_list=[]\n",
    "\n",
    "for product in products:\n",
    "    \n",
    "    prod_detail= product.split(',')\n",
    "    if int(prod_detail[0])==ui_prod_id:\n",
    "        print(\"-\"*40)\n",
    "        print(\"Product ID:                    \", prod_detail[0])\n",
    "        print(\"Product Name:                  \", prod_detail[1])\n",
    "        print(\"Product Quantity:              \", ui_prod_qt)\n",
    "        print(\"Billing Amount:                \", ui_prod_qt*int(prod_detail[2]))\n",
    "        print(\"-\"*40)\n",
    "        prod_detail[3]=str(int(prod_detail[3])-ui_prod_qt)\n",
    "        # print(\"Updated Product Quantity:      \", prod_detail[2])\n",
    "\n",
    "    updated_prod_list.append(prod_detail)"
   ]
  },
  {
   "cell_type": "code",
   "execution_count": 64,
   "id": "bc78441c",
   "metadata": {},
   "outputs": [
    {
     "name": "stdout",
     "output_type": "stream",
     "text": [
      "1,5 Star,5,95\n",
      "2,Milky Bar,10,95\n",
      "3,Candy,1,200\n",
      "4,Munch,15,150\n"
     ]
    }
   ],
   "source": [
    "for product in updated_prod_list:\n",
    "    prod= product[0]+','+product[1]+','+product[2]+','+product[3]\n",
    "    print(prod)"
   ]
  },
  {
   "cell_type": "code",
   "execution_count": 63,
   "id": "eb27c820",
   "metadata": {},
   "outputs": [],
   "source": [
    "fd=open('Inventory.txt','w')\n",
    "\n",
    "list=[]\n",
    "for product in updated_prod_list:\n",
    "    prod= product[0]+','+product[1]+','+product[2]+','+product[3]+'\\n'\n",
    "    list.append(prod)\n",
    "\n",
    "list[-1]=list[-1][:-1]\n",
    "\n",
    "for i in list:\n",
    "    fd.write(i)\n",
    "fd.close()"
   ]
  },
  {
   "cell_type": "markdown",
   "id": "bcea5641",
   "metadata": {},
   "source": [
    "---------------------------------------------------------------------------------------------------------------------------------------------------------------------\n"
   ]
  },
  {
   "cell_type": "code",
   "execution_count": 113,
   "id": "c17dca38",
   "metadata": {},
   "outputs": [
    {
     "data": {
      "text/plain": [
       "'Sat May 31 00:35:51 2025'"
      ]
     },
     "execution_count": 113,
     "metadata": {},
     "output_type": "execute_result"
    }
   ],
   "source": [
    "import time\n",
    "time.ctime()"
   ]
  },
  {
   "cell_type": "markdown",
   "id": "7196e9ee",
   "metadata": {},
   "source": [
    "**Complete inventory Updation**\n",
    "-"
   ]
  },
  {
   "cell_type": "code",
   "execution_count": null,
   "id": "64e18ce6",
   "metadata": {},
   "outputs": [
    {
     "name": "stdout",
     "output_type": "stream",
     "text": [
      "----------------------------------------\n",
      "Product ID:                     1\n",
      "Product Name:                   5 Star\n",
      "Product Quantity:               2\n",
      "Billing Amount:                 10\n",
      "----------------------------------------\n"
     ]
    }
   ],
   "source": [
    "fd=open('Inventory.txt','r')\n",
    "txt=fd.read()\n",
    "fd.close()\n",
    "\n",
    "user_name= input(\"Enter your name: \")\n",
    "user_phno= int(input(\"Enter your phone number: \"))\n",
    "ui_prod_id= int(input(\"Enter Product ID: \"))\n",
    "ui_prod_qt= int(input(\"Enter Product Quantity: \"))\n",
    "\n",
    "updated_prod_list=[]\n",
    "\n",
    "for product in products:\n",
    "    \n",
    "    prod_detail= product.split(',')\n",
    "    if int(prod_detail[0])==ui_prod_id:\n",
    "        if int(prod_detail[3]) >= ui_prod_qt:\n",
    "            print(\"-\"*40)\n",
    "            print(\"Product ID:                    \", prod_detail[0])\n",
    "            print(\"Product Name:                  \", prod_detail[1])\n",
    "            print(\"Product Quantity:              \", ui_prod_qt)\n",
    "            print(\"Billing Amount:                \", ui_prod_qt*int(prod_detail[2]))\n",
    "            print(\"-\"*40)\n",
    "            prod_detail[3]=str(int(prod_detail[3])-ui_prod_qt)\n",
    "\n",
    "            cd=open('Sales.txt','a')\n",
    "            sales_detail= user_name+','+str(user_phno)+','+prod_detail[0]+','+prod_detail[1]+','+str(ui_prod_qt)+','+str(int(prod_detail[2])*ui_prod_qt)+','+time.ctime()+'\\n'\n",
    "            cd.write(sales_detail)\n",
    "            cd.close()\n",
    "\n",
    "        else:\n",
    "            print(f\"Insufficient Stock of {prod_detail[1]}, {prod_detail[3]} items left in stock.\")\n",
    "            print(\"Would you like you like to purchase the available stock? (y/n)\")\n",
    "\n",
    "            ch= input(\"Enter y/n: \")\n",
    "\n",
    "            if ch=='Y' or ch=='y':\n",
    "                print(\"-\"*40)\n",
    "                print(\"Product ID:                    \", prod_detail[0])\n",
    "                print(\"Product Name:                  \", prod_detail[1])\n",
    "                print(\"Product Quantity:              \", prod_detail[3])\n",
    "                print(\"Billing Amount:                \", int(prod_detail[3])*int(prod_detail[2]))\n",
    "                print(\"-\"*40)\n",
    "                prod_detail[3]=str(0)\n",
    "\n",
    "                cd=open('Sales.txt','a')\n",
    "                sales_detail= user_name+','+str(user_phno)+','+prod_detail[0]+','+prod_detail[1]+','+prod_detail[3]+','+str(int(prod_detail[3])*int(prod_detail[2]))+'\\n'\n",
    "                cd.write(sales_detail)\n",
    "                cd.close()\n",
    "\n",
    "    updated_prod_list.append(prod_detail)\n",
    "    \n",
    "fd=open('Inventory.txt','w')\n",
    "\n",
    "list=[]\n",
    "for product in updated_prod_list:\n",
    "    prod= product[0]+','+product[1]+','+product[2]+','+product[3]+'\\n'\n",
    "    list.append(prod)\n",
    "\n",
    "list[-1]=list[-1][:-1]\n",
    "\n",
    "for i in list:\n",
    "    fd.write(i)\n",
    "fd.close()\n"
   ]
  },
  {
   "cell_type": "code",
   "execution_count": 124,
   "id": "45e338a3",
   "metadata": {},
   "outputs": [
    {
     "name": "stdout",
     "output_type": "stream",
     "text": [
      "['1', '5 Star', '5', '100']\n",
      "['2', 'Milky Bar', '10', '100']\n",
      "['3', 'Candy', '1', '100']\n",
      "['4', 'Munch', '15', '150']\n"
     ]
    }
   ],
   "source": [
    "fd=open('Inventory.txt','r')\n",
    "txt=fd.read()\n",
    "products=txt.split('\\n')\n",
    "for product in products:\n",
    "    print(product.split(','))\n",
    "fd.close()"
   ]
  },
  {
   "cell_type": "markdown",
   "id": "0688582b",
   "metadata": {},
   "source": [
    "---------------------------------------------------------------------------------------------------------------------------------------------------------------------\n"
   ]
  },
  {
   "cell_type": "code",
   "execution_count": null,
   "id": "8f90984f",
   "metadata": {},
   "outputs": [
    {
     "name": "stdout",
     "output_type": "stream",
     "text": [
      "1        5 Star        2        10\n",
      "2        Milky Bar        2        20\n",
      "3        Candy        2        2\n",
      "4        Munch        2        30\n"
     ]
    }
   ],
   "source": [
    "fd=open('Inventory.txt','r')\n",
    "txt=fd.read()\n",
    "fd.close()\n",
    "\n",
    "user_name= input(\"Enter your name: \")\n",
    "user_phno= int(input(\"Enter your phone number: \"))\n",
    "\n",
    "pur_list={\"prod_id\":[],\n",
    "           \"prod_qt\":[]}\n",
    "\n",
    "while True:\n",
    "    ui_prod_id= int(input(\"Enter Product ID: \"))\n",
    "    if ui_prod_id not in [int(product.split(',')[0]) for product in products]:\n",
    "        break\n",
    "    ui_prod_qt= int(input(\"Enter Product Quantity: \")) \n",
    "    \n",
    "    pur_list[\"prod_id\"].append(ui_prod_id)\n",
    "    pur_list[\"prod_qt\"].append(ui_prod_qt)\n",
    "\n",
    "updated_prod_list=[]\n",
    "\n",
    "Bill_Amount=0\n",
    "for product in products:\n",
    "    \n",
    "    prod_detail= product.split(',')\n",
    "    for id in pur_list[\"prod_id\"]:\n",
    "        index= pur_list[\"prod_id\"].index(id)\n",
    "        if int(prod_detail[0])==id and int(prod_detail[3]) >= pur_list[\"prod_qt\"][index]:\n",
    "            print(f\"{prod_detail[0]}        {prod_detail[1]}        {pur_list[\"prod_qt\"][index]}        {int(prod_detail[2])*pur_list[\"prod_qt\"][index]}\")\n",
    "            Bill_Amount += int(prod_detail[2]) * pur_list[\"prod_qt\"][index]\n",
    "            prod_detail[3]=str(int(prod_detail[3])-pur_list[\"prod_qt\"][index])\n",
    "\n",
    "        else:\n",
    "            print(f\"Insufficient Stock of {prod_detail[1]}, {prod_detail[3]} items left in stock.\")\n",
    "            print(\"Would you like you like to purchase the available stock? (y/n)\")\n",
    "\n",
    "            ch= input(\"Enter y/n: \")\n",
    "\n",
    "            if ch=='Y' or ch=='y':\n",
    "                print(f\"{prod_detail[0]}        {prod_detail[1]}        {prod_detail[3]}        {int(prod_detail[2])*int(prod_detail[3])}\")\n",
    "                Bill_Amount += int(prod_detail[2]) * int(prod_detail[3])\n",
    "                prod_detail[3]=str(0)\n",
    "\n",
    "    updated_prod_list.append(prod_detail)\n",
    "\n",
    "# cd = open('Sales.txt', 'a')\n",
    "\n",
    "# sales_detail=user_name + ',' + str(user_phno) + ','\n",
    "# if int(prod_detail[3]) >= pur_list[\"prod_qt\"][index]:\n",
    "#     for i in range(len(pur_list[\"prod_id\"])):\n",
    "#         prod_id = pur_list[\"prod_id\"][i]\n",
    "#         qty = pur_list[\"prod_qt\"][i]\n",
    "        \n",
    "#         sales_detail += str(prod_id) + ',' + str(qty) + ','\n",
    "\n",
    "# sales_detail += str(Bill_Amount) + ',' + time.ctime() + '\\n'\n",
    "# cd.write(sales_detail)\n",
    "\n",
    "# cd.close()\n",
    "    \n",
    "fd=open('Inventory.txt','w')\n",
    "\n",
    "list=[]\n",
    "for product in updated_prod_list:\n",
    "    prod= product[0]+','+product[1]+','+product[2]+','+product[3]+'\\n'\n",
    "    list.append(prod)\n",
    "\n",
    "list[-1]=list[-1][:-1]\n",
    "\n",
    "for i in list:\n",
    "    fd.write(i)\n",
    "fd.close()\n"
   ]
  }
 ],
 "metadata": {
  "kernelspec": {
   "display_name": "Python 3",
   "language": "python",
   "name": "python3"
  },
  "language_info": {
   "codemirror_mode": {
    "name": "ipython",
    "version": 3
   },
   "file_extension": ".py",
   "mimetype": "text/x-python",
   "name": "python",
   "nbconvert_exporter": "python",
   "pygments_lexer": "ipython3",
   "version": "3.13.0"
  }
 },
 "nbformat": 4,
 "nbformat_minor": 5
}
