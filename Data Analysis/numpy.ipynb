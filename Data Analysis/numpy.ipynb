{
 "cells": [
  {
   "cell_type": "code",
   "execution_count": 2,
   "id": "4707c258",
   "metadata": {},
   "outputs": [],
   "source": [
    "import numpy as np\n",
    "import pandas as pd"
   ]
  },
  {
   "cell_type": "code",
   "execution_count": null,
   "id": "ce5a4bde",
   "metadata": {},
   "outputs": [
    {
     "name": "stdout",
     "output_type": "stream",
     "text": [
      "[[[1 2 3 4 5]\n",
      "  [1 2 3 4 5]]]\n",
      "<class 'numpy.ndarray'>\n",
      "int64\n",
      "(1, 2, 5)\n",
      "3\n",
      "10\n"
     ]
    }
   ],
   "source": [
    "# Basic stuff\n",
    "list1 =[[[1, 2, 3, 4, 5],[1, 2, 3, 4, 5]]]\n",
    "arr=np.array(list1)\n",
    "print(arr)\n",
    "print(type(arr))\n",
    "print(arr.dtype)\n",
    "print(arr.shape)\n",
    "print(arr.ndim)\n",
    "print(arr.size)"
   ]
  },
  {
   "cell_type": "code",
   "execution_count": 17,
   "id": "8093c068",
   "metadata": {},
   "outputs": [
    {
     "name": "stdout",
     "output_type": "stream",
     "text": [
      "[[0. 0.]\n",
      " [0. 0.]]\n",
      "[[1. 1.]\n",
      " [1. 1.]]\n",
      "[[7 7 7]\n",
      " [7 7 7]\n",
      " [7 7 7]]\n"
     ]
    }
   ],
   "source": [
    "# array of 0 and 1\n",
    "arr1= np.zeros((2, 2))\n",
    "print(arr1)\n",
    "\n",
    "arr2= np.ones((2, 2))\n",
    "print(arr2)\n",
    "\n",
    "arr3= np.full((3, 3), fill_value=7)\n",
    "print(arr3)"
   ]
  },
  {
   "cell_type": "code",
   "execution_count": 24,
   "id": "035eaa9f",
   "metadata": {},
   "outputs": [
    {
     "name": "stdout",
     "output_type": "stream",
     "text": [
      "0.040016281127026154\n",
      "[[0.13419478 0.17803305 0.78814018]\n",
      " [0.85082525 0.88580464 0.9599583 ]\n",
      " [0.39253942 0.53045341 0.02127697]]\n",
      "[[4 7 4]\n",
      " [2 9 5]\n",
      " [8 8 2]]\n",
      "[[10 10 20]\n",
      " [20 10 10]\n",
      " [20 20 20]]\n",
      "[[7.34309779 7.46701909 6.47249033]\n",
      " [9.62186932 9.68479089 5.1674923 ]\n",
      " [6.53680545 7.28603867 6.35132755]]\n",
      "[0 2 4 6]\n",
      "[ 0.   2.5  5.   7.5 10. ]\n"
     ]
    }
   ],
   "source": [
    "import random\n",
    "\n",
    "print(np.random.random()) # Random integer between 0 and 1\n",
    "\n",
    "arr1= np.random.random((3, 3)) # Random numbers between 0 and 1\n",
    "print(arr1)\n",
    "\n",
    "arr2= np.random.randint(1, 10, (3, 3)) # Random integers between 1 and 10\n",
    "print(arr2)\n",
    "\n",
    "arr3= np.random.choice([10, 20, 30], size=(3, 3)) # Random number from the list\n",
    "print(arr3)\n",
    "\n",
    "arr4= np.random.uniform(5, 10, (3, 3))  # Random float numbers between 5 and 10\n",
    "print(arr4) \n",
    "\n",
    "arr5= np.arange(0, 7, 2)  # [0, 2, 4, 6]  <start, stop, space b/w elements>\n",
    "print(arr5)\n",
    "\n",
    "arr6= np.linspace(0, 10, 5)  # [0, 2.5, 5, 7.5, 10] <start, stop, no. of elements>\n",
    "print(arr6)"
   ]
  },
  {
   "cell_type": "code",
   "execution_count": 32,
   "id": "639c266f",
   "metadata": {},
   "outputs": [
    {
     "name": "stdout",
     "output_type": "stream",
     "text": [
      "[[0.41465082 0.82427944 0.93660023]\n",
      " [0.77208517 0.25348163 0.81647835]\n",
      " [0.9318625  0.68578838 0.0569873 ]]\n",
      "(3, 3)\n",
      "[[0.41465082 0.82427944 0.93660023 0.77208517 0.25348163 0.81647835\n",
      "  0.9318625  0.68578838 0.0569873 ]]\n",
      "(1, 9)\n",
      "[0.41465082 0.82427944 0.93660023 0.77208517 0.25348163 0.81647835\n",
      " 0.9318625  0.68578838 0.0569873 ]\n",
      "(9,)\n"
     ]
    }
   ],
   "source": [
    "arr1= np.random.random((3, 3)) # Random numbers between 0 and 1\n",
    "print(arr1)\n",
    "print(arr1.shape)\n",
    "\n",
    "arr2= np.reshape(arr1, (1,9))\n",
    "print(arr2)  # Reshape to 1 row and 9 columns\n",
    "print(arr2.shape)\n",
    "\n",
    "arr3= arr1.flatten()  # Flatten the array to 1D\n",
    "print(arr3)\n",
    "print(arr3.shape)"
   ]
  },
  {
   "cell_type": "code",
   "execution_count": null,
   "id": "98ed2e71",
   "metadata": {},
   "outputs": [
    {
     "name": "stdout",
     "output_type": "stream",
     "text": [
      "[1 2 3 4 5 6]\n",
      "[2 3 4 5 6 7]\n",
      "[0 1 2 3 4 5]\n",
      "[ 2  4  6  8 10 12]\n",
      "[0.5 1.  1.5 2.  2.5 3. ]\n",
      "[ 1  4  9 16 25 36]\n",
      "[[7 8 7]\n",
      " [6 9 4]\n",
      " [8 2 6]]\n",
      "9\n",
      "[8 9 7]\n"
     ]
    }
   ],
   "source": [
    "arr1=np.array([1, 2, 3, 4, 5, 6])\n",
    "print(arr1)\n",
    "\n",
    "print(arr1+1)\n",
    "print(arr1-1)\n",
    "print(arr1*2)\n",
    "print(arr1/2)\n",
    "print(arr1**2)\n",
    "\n",
    "arr2=np.random.randint(1, 10, (3, 3))\n",
    "print(arr2)\n",
    "print(arr2.max())\n",
    "print(arr2.max(axis=0))  #maximum element column wise"
   ]
  },
  {
   "cell_type": "code",
   "execution_count": 55,
   "id": "8777d66a",
   "metadata": {},
   "outputs": [
    {
     "name": "stdout",
     "output_type": "stream",
     "text": [
      "[[ 4  9 10]\n",
      " [ 7  3 12]\n",
      " [10  7 14]]\n",
      "[[ 3 20 21]\n",
      " [12  2 32]\n",
      " [16  6 48]]\n",
      "[[ 24  17  71]\n",
      " [ 23  22  68]\n",
      " [ 54  50 152]]\n",
      "[[ 24  17  71]\n",
      " [ 23  22  68]\n",
      " [ 54  50 152]]\n"
     ]
    }
   ],
   "source": [
    "arr1=np.array([[1, 5, 3],\n",
    "               [4, 1, 4],\n",
    "               [8, 6, 6]])\n",
    "arr2=np.array([[3, 4, 7],\n",
    "               [3, 2, 8],\n",
    "               [2, 1, 8]])\n",
    "\n",
    "print(arr1 + arr2)\n",
    "print(arr1*arr2)  # element-wise multiplication\n",
    "print(arr1 @ arr2)  # matrix multiplication\n",
    "print(np.dot(arr1, arr2))  # dot product"
   ]
  },
  {
   "cell_type": "code",
   "execution_count": 72,
   "id": "99f0979c",
   "metadata": {},
   "outputs": [
    {
     "name": "stdout",
     "output_type": "stream",
     "text": [
      "[4 1 4]\n",
      "(3, 3)\n"
     ]
    }
   ],
   "source": [
    "arr1=np.array([[1, 5, 3],\n",
    "               [4, 1, 4],\n",
    "               [8, 6, 6]])\n",
    "\n",
    "print(arr1[1,:])\n",
    "print(arr1.shape)"
   ]
  },
  {
   "cell_type": "code",
   "execution_count": 76,
   "id": "69155a52",
   "metadata": {},
   "outputs": [
    {
     "name": "stdout",
     "output_type": "stream",
     "text": [
      "[[1 1 3]\n",
      " [4 5 4]\n",
      " [8 6 6]]\n"
     ]
    }
   ],
   "source": [
    "arr1=np.array([[1, 5, 3],\n",
    "               [4, 1, 4],\n",
    "               [8, 6, 6]])\n",
    "arr1=np.sort(arr1, axis=0, kind='mergesort')  # Sorts the array in ascending order\n",
    "print(arr1)"
   ]
  },
  {
   "cell_type": "code",
   "execution_count": 79,
   "id": "ce144ecb",
   "metadata": {},
   "outputs": [
    {
     "name": "stdout",
     "output_type": "stream",
     "text": [
      "[[3 5 4]\n",
      " [4 2 2]\n",
      " [5 6 9]]\n",
      "[[9 6 7]\n",
      " [4 8 9]\n",
      " [8 4 6]]\n",
      "[[3 5 4]\n",
      " [4 2 2]\n",
      " [5 6 9]\n",
      " [9 6 7]\n",
      " [4 8 9]\n",
      " [8 4 6]]\n",
      "[[3 5 4 9 6 7]\n",
      " [4 2 2 4 8 9]\n",
      " [5 6 9 8 4 6]]\n",
      "[[3 5 4]\n",
      " [4 2 2]\n",
      " [5 6 9]\n",
      " [9 6 7]\n",
      " [4 8 9]\n",
      " [8 4 6]]\n",
      "[[3 5 4 9 6 7]\n",
      " [4 2 2 4 8 9]\n",
      " [5 6 9 8 4 6]]\n"
     ]
    }
   ],
   "source": [
    "arr1= np.random.randint(1, 10, (3, 3)) # Random numbers between 0 and 1\n",
    "print(arr1)\n",
    "\n",
    "arr2= np.random.randint(1, 10, (3, 3)) # Random numbers between 0 and 1\n",
    "print(arr2)\n",
    "\n",
    "arr3= np.vstack((arr1, arr2))  # Stack arrays vertically\n",
    "print(arr3)\n",
    "\n",
    "arr4= np.hstack((arr1, arr2))  # Stack arrays horizontally\n",
    "print(arr4)\n",
    "\n",
    "arr5= np.concatenate((arr1, arr2), axis=0)  # Concatenate arrays along the first axis\n",
    "print(arr5)\n",
    "\n",
    "arr6= np.concatenate((arr1, arr2), axis=1)  # Concatenate arrays along the second axis      \n",
    "print(arr6)"
   ]
  },
  {
   "cell_type": "markdown",
   "id": "804d554c",
   "metadata": {},
   "source": [
    "**Pandas**\n",
    "-"
   ]
  },
  {
   "cell_type": "code",
   "execution_count": 8,
   "id": "4cb3097d",
   "metadata": {},
   "outputs": [
    {
     "name": "stdout",
     "output_type": "stream",
     "text": [
      "0    1\n",
      "1    2\n",
      "2    3\n",
      "dtype: int64\n",
      "0    [1, 2, 3]\n",
      "1    [1, 2, 3]\n",
      "dtype: object\n"
     ]
    }
   ],
   "source": [
    "list1 = [1, 2, 3]\n",
    "print(pd.Series( list1))\n",
    "print(pd.Series([list1, list1]))"
   ]
  },
  {
   "cell_type": "code",
   "execution_count": 11,
   "id": "e550d5a3",
   "metadata": {},
   "outputs": [
    {
     "name": "stdout",
     "output_type": "stream",
     "text": [
      "   0  1  2\n",
      "0  1  2  3\n",
      "1  1  2  3\n",
      "   A  B  C\n",
      "0  1  2  3\n",
      "1  1  2  3\n"
     ]
    }
   ],
   "source": [
    "print(pd.DataFrame([list1, list1]))\n",
    "print(pd.DataFrame([list1, list1], columns=['A', 'B', 'C']))"
   ]
  },
  {
   "cell_type": "code",
   "execution_count": 20,
   "id": "5015afbe",
   "metadata": {},
   "outputs": [
    {
     "data": {
      "text/plain": [
       "pandas.core.frame.DataFrame"
      ]
     },
     "execution_count": 20,
     "metadata": {},
     "output_type": "execute_result"
    }
   ],
   "source": [
    "df=pd.DataFrame({'A': [1, 2, 3], 'B': [4, 5, 6], 'C': [7, 8, 9]})\n",
    "type(df)"
   ]
  },
  {
   "cell_type": "code",
   "execution_count": 18,
   "id": "ca44f7ad",
   "metadata": {},
   "outputs": [
    {
     "name": "stdout",
     "output_type": "stream",
     "text": [
      "                                                 App        Category  Rating  \\\n",
      "0     Photo Editor & Candy Camera & Grid & ScrapBook  ART_AND_DESIGN     4.1   \n",
      "1                                Coloring book moana  ART_AND_DESIGN     3.9   \n",
      "2  U Launcher Lite – FREE Live Cool Themes, Hide ...  ART_AND_DESIGN     4.7   \n",
      "3                              Sketch - Draw & Paint  ART_AND_DESIGN     4.5   \n",
      "4              Pixel Draw - Number Art Coloring Book  ART_AND_DESIGN     4.3   \n",
      "\n",
      "  Reviews  Size     Installs  Type Price Content Rating  \\\n",
      "0     159   19M      10,000+  Free     0       Everyone   \n",
      "1     967   14M     500,000+  Free     0       Everyone   \n",
      "2   87510  8.7M   5,000,000+  Free     0       Everyone   \n",
      "3  215644   25M  50,000,000+  Free     0           Teen   \n",
      "4     967  2.8M     100,000+  Free     0       Everyone   \n",
      "\n",
      "                      Genres      Last Updated         Current Ver  \\\n",
      "0               Art & Design   January 7, 2018               1.0.0   \n",
      "1  Art & Design;Pretend Play  January 15, 2018               2.0.0   \n",
      "2               Art & Design    August 1, 2018               1.2.4   \n",
      "3               Art & Design      June 8, 2018  Varies with device   \n",
      "4    Art & Design;Creativity     June 20, 2018                 1.1   \n",
      "\n",
      "    Android Ver  \n",
      "0  4.0.3 and up  \n",
      "1  4.0.3 and up  \n",
      "2  4.0.3 and up  \n",
      "3    4.2 and up  \n",
      "4    4.4 and up  \n",
      "(10841, 13)\n",
      "Index(['App', 'Category', 'Rating', 'Reviews', 'Size', 'Installs', 'Type',\n",
      "       'Price', 'Content Rating', 'Genres', 'Last Updated', 'Current Ver',\n",
      "       'Android Ver'],\n",
      "      dtype='object')\n"
     ]
    }
   ],
   "source": [
    "data=pd.read_csv('googleplaystore.csv')\n",
    "\n",
    "print(data.head())  # Display the first few rows of the DataFrame\n",
    "print(data.shape)\n",
    "print(data.columns)  # Display the column names of the DataFrame"
   ]
  },
  {
   "cell_type": "code",
   "execution_count": 21,
   "id": "df5844c1",
   "metadata": {},
   "outputs": [
    {
     "name": "stdout",
     "output_type": "stream",
     "text": [
      "<class 'pandas.core.frame.DataFrame'>\n",
      "RangeIndex: 10841 entries, 0 to 10840\n",
      "Data columns (total 13 columns):\n",
      " #   Column          Non-Null Count  Dtype  \n",
      "---  ------          --------------  -----  \n",
      " 0   App             10841 non-null  object \n",
      " 1   Category        10841 non-null  object \n",
      " 2   Rating          9367 non-null   float64\n",
      " 3   Reviews         10841 non-null  object \n",
      " 4   Size            10841 non-null  object \n",
      " 5   Installs        10841 non-null  object \n",
      " 6   Type            10840 non-null  object \n",
      " 7   Price           10841 non-null  object \n",
      " 8   Content Rating  10840 non-null  object \n",
      " 9   Genres          10841 non-null  object \n",
      " 10  Last Updated    10841 non-null  object \n",
      " 11  Current Ver     10833 non-null  object \n",
      " 12  Android Ver     10838 non-null  object \n",
      "dtypes: float64(1), object(12)\n",
      "memory usage: 1.1+ MB\n"
     ]
    }
   ],
   "source": [
    "data.info()  # Display information about the DataFrame"
   ]
  },
  {
   "cell_type": "code",
   "execution_count": null,
   "id": "03cb717a",
   "metadata": {},
   "outputs": [],
   "source": []
  },
  {
   "cell_type": "code",
   "execution_count": null,
   "metadata": {},
   "outputs": [],
   "source": []
  },
  {
   "cell_type": "markdown",
   "id": "79147b79",
   "metadata": {},
   "source": [
    "**OS Lbraries**\n",
    "-"
   ]
  },
  {
   "cell_type": "code",
   "execution_count": 81,
   "id": "8d1c6783",
   "metadata": {},
   "outputs": [],
   "source": [
    "import os"
   ]
  },
  {
   "cell_type": "code",
   "execution_count": null,
   "id": "f5795f5c",
   "metadata": {},
   "outputs": [
    {
     "data": {
      "text/plain": [
       "'c:\\\\Users\\\\AYUSH\\\\OneDrive\\\\Desktop\\\\College\\\\Interests\\\\ML\\\\Data Analysis'"
      ]
     },
     "execution_count": 84,
     "metadata": {},
     "output_type": "execute_result"
    }
   ],
   "source": [
    "# get current working directory\n",
    "os.getcwd()"
   ]
  },
  {
   "cell_type": "code",
   "execution_count": null,
   "id": "bb72ab65",
   "metadata": {},
   "outputs": [],
   "source": [
    "# make directorie\n",
    "os.mkdir(\"GFG\")"
   ]
  },
  {
   "cell_type": "code",
   "execution_count": 85,
   "id": "944550d0",
   "metadata": {},
   "outputs": [],
   "source": [
    "# make nested directories\n",
    "os.makedirs(\"GFG/subdir1\")"
   ]
  },
  {
   "cell_type": "code",
   "execution_count": 96,
   "id": "d18b1ef8",
   "metadata": {},
   "outputs": [
    {
     "ename": "PermissionError",
     "evalue": "[WinError 5] Access is denied: 'GFG1/subdir1'",
     "output_type": "error",
     "traceback": [
      "\u001b[31m---------------------------------------------------------------------------\u001b[39m",
      "\u001b[31mPermissionError\u001b[39m                           Traceback (most recent call last)",
      "\u001b[36mCell\u001b[39m\u001b[36m \u001b[39m\u001b[32mIn[96]\u001b[39m\u001b[32m, line 1\u001b[39m\n\u001b[32m----> \u001b[39m\u001b[32m1\u001b[39m \u001b[43mos\u001b[49m\u001b[43m.\u001b[49m\u001b[43mremove\u001b[49m\u001b[43m(\u001b[49m\u001b[33;43m\"\u001b[39;49m\u001b[33;43mGFG1/subdir1\u001b[39;49m\u001b[33;43m\"\u001b[39;49m\u001b[43m)\u001b[49m  \u001b[38;5;66;03m# remove file\u001b[39;00m\n",
      "\u001b[31mPermissionError\u001b[39m: [WinError 5] Access is denied: 'GFG1/subdir1'"
     ]
    }
   ],
   "source": [
    "os.remove(\"GFG1/subdir1\")  # remove file"
   ]
  },
  {
   "cell_type": "code",
   "execution_count": 87,
   "id": "97ff4c50",
   "metadata": {},
   "outputs": [
    {
     "name": "stdout",
     "output_type": "stream",
     "text": [
      "GFG\n",
      "Inventory.txt\n",
      "Inventory_Management(.txt).ipynb\n",
      "Inventory_Management(JSoN).ipynb\n",
      "numpy.ipynb\n",
      "record.json\n",
      "Sales.txt\n",
      "Sale_json.txt\n"
     ]
    }
   ],
   "source": [
    "for i in os.listdir():\n",
    "    print(i)"
   ]
  },
  {
   "cell_type": "code",
   "execution_count": 88,
   "id": "fec974d7",
   "metadata": {},
   "outputs": [],
   "source": [
    "os.rename(\"GFG\", \"GFG1\")  # Rename directory"
   ]
  },
  {
   "cell_type": "code",
   "execution_count": 90,
   "id": "ec23e410",
   "metadata": {},
   "outputs": [
    {
     "data": {
      "text/plain": [
       "True"
      ]
     },
     "execution_count": 90,
     "metadata": {},
     "output_type": "execute_result"
    }
   ],
   "source": [
    "os.path.exists(\"GFG1\")  # Check if directory exists"
   ]
  },
  {
   "cell_type": "code",
   "execution_count": 91,
   "id": "010d4a07",
   "metadata": {},
   "outputs": [
    {
     "data": {
      "text/plain": [
       "0"
      ]
     },
     "execution_count": 91,
     "metadata": {},
     "output_type": "execute_result"
    }
   ],
   "source": [
    "os.path.getsize(\"GFG1\")  # Get size of directory"
   ]
  },
  {
   "cell_type": "code",
   "execution_count": null,
   "id": "967158ce",
   "metadata": {},
   "outputs": [],
   "source": [
    "#bulk create files in a directory\n",
    "for i in range(4):\n",
    "    name=f\"GFG1/subdir1/file {i}\"\n",
    "    os.mkdir(name)"
   ]
  },
  {
   "cell_type": "code",
   "execution_count": 102,
   "id": "03fe8339",
   "metadata": {},
   "outputs": [
    {
     "data": {
      "text/plain": [
       "['file 0', 'file 1', 'file 2', 'file 3', 'file 4']"
      ]
     },
     "execution_count": 102,
     "metadata": {},
     "output_type": "execute_result"
    }
   ],
   "source": [
    "os.listdir(\"GFG1/subdir1\")  # List files in the directory"
   ]
  },
  {
   "cell_type": "code",
   "execution_count": 105,
   "id": "72011f73",
   "metadata": {},
   "outputs": [],
   "source": [
    "os.mkdir('data')  # Create a directory named 'data'\n",
    "\n",
    "for i in range(5):\n",
    "    name= f\"data/file_{i}.txt\"\n",
    "    f =open(name,'w')\n",
    "    f.write(f\"This is file {i}\\n\")\n",
    "    f.close()  # Close the file after writing"
   ]
  },
  {
   "cell_type": "code",
   "execution_count": 106,
   "id": "c0831afa",
   "metadata": {},
   "outputs": [
    {
     "name": "stdout",
     "output_type": "stream",
     "text": [
      "This is file 0\n",
      "\n",
      "This is file 1\n",
      "\n",
      "This is file 2\n",
      "\n",
      "This is file 3\n",
      "\n",
      "This is file 4\n",
      "\n"
     ]
    }
   ],
   "source": [
    "for i in os.listdir(\"data\"):\n",
    "    name=f\"data/{i}\"\n",
    "    f=open(name, 'r')\n",
    "    print(f.read())  # Read and print the content of each file\n",
    "    f.close()  # Close the file after reading"
   ]
  },
  {
   "cell_type": "code",
   "execution_count": null,
   "id": "da929996",
   "metadata": {},
   "outputs": [
    {
     "name": "stdout",
     "output_type": "stream",
     "text": [
      "This is file 0\n",
      "\n",
      "This is file 1\n",
      "\n",
      "This is file 2\n",
      "\n",
      "This is file 3\n",
      "\n",
      "This is file 4\n",
      "\n"
     ]
    },
    {
     "ename": "",
     "evalue": "",
     "output_type": "error",
     "traceback": [
      "\u001b[1;31mThe Kernel crashed while executing code in the current cell or a previous cell. \n",
      "\u001b[1;31mPlease review the code in the cell(s) to identify a possible cause of the failure. \n",
      "\u001b[1;31mClick <a href='https://aka.ms/vscodeJupyterKernelCrash'>here</a> for more info. \n",
      "\u001b[1;31mView Jupyter <a href='command:jupyter.viewOutput'>log</a> for further details."
     ]
    }
   ],
   "source": [
    "for i in os.listdir(\"data\"):\n",
    "    if i.endswith(\".txt\"):\n",
    "        name=f\"data/{i}\"\n",
    "        f=open(name, 'r')\n",
    "        print(f.read())  # Read and print the content of each file\n",
    "        f.close()  # Close the file after reading"
   ]
  }
 ],
 "metadata": {
  "kernelspec": {
   "display_name": "Python 3",
   "language": "python",
   "name": "python3"
  },
  "language_info": {
   "codemirror_mode": {
    "name": "ipython",
    "version": 3
   },
   "file_extension": ".py",
   "mimetype": "text/x-python",
   "name": "python",
   "nbconvert_exporter": "python",
   "pygments_lexer": "ipython3",
   "version": "3.13.0"
  }
 },
 "nbformat": 4,
 "nbformat_minor": 5
}
