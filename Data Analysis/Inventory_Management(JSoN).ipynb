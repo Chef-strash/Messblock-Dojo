{
 "cells": [
  {
   "cell_type": "code",
   "execution_count": null,
   "id": "59adc984",
   "metadata": {},
   "outputs": [],
   "source": [
    "import json\n",
    "\n",
    "record={1 : {\"Name\":\"5 Star\", \"Price\": 10, \"Qn\":100},\n",
    "        2 : {\"Name\":\"Milky Bar\", \"Price\": 20, \"Qn\":50},\n",
    "        3 : {\"Name\":\"Munch\", \"Price\": 5, \"Qn\":100},\n",
    "        4 : {\"Name\":\"Cake\", \"Price\": 100, \"Qn\":10}}"
   ]
  },
  {
   "cell_type": "code",
   "execution_count": null,
   "id": "115954ee",
   "metadata": {},
   "outputs": [
    {
     "name": "stdout",
     "output_type": "stream",
     "text": [
      "Product    :         5 Star\n",
      "Quantity   :         2\n",
      "Price      :         10\n",
      "Bill Amount:         20\n",
      "1 : 5 Star | Price:  10 | Quantity:  98\n",
      "2 : Milky Bar | Price:  20 | Quantity:  50\n",
      "3 : Munch | Price:  5 | Quantity:  100\n",
      "4 : Cake | Price:  100 | Quantity:  10\n"
     ]
    }
   ],
   "source": [
    "ui_prod_id=str(input(\"Enter the product id: \"))\n",
    "ui_prod_qt=str(input(\"Enter the quantity  : \"))\n",
    "\n",
    "print(f\"Product    :         {record[ui_prod_id][\"Name\"]}\")\n",
    "print(f\"Quantity   :         {ui_prod_qt}\")\n",
    "print(f\"Price      :         {record[ui_prod_id][\"Price\"]}\")\n",
    "print(f\"Bill Amount:         {int(record[ui_prod_id][\"Price\"])*int(ui_prod_qt)}\")\n",
    "\n",
    "record[ui_prod_id][\"Qn\"] =str(int(record[ui_prod_id][\"Qn\"]) - int(ui_prod_qt))\n",
    "\n",
    "for key in record.keys():\n",
    "    print(key, \":\", record[key][\"Name\"], \"|\",  \"Price: \", record[key][\"Price\"], \"|\", \"Quantity: \", record[key][\"Qn\"])"
   ]
  },
  {
   "cell_type": "code",
   "execution_count": 21,
   "id": "48ca68d7",
   "metadata": {},
   "outputs": [],
   "source": [
    "js= json.dumps(record)\n",
    "fd=open(\"record.json\", \"w\")\n",
    "fd.write(js)\n",
    "fd.close()"
   ]
  },
  {
   "cell_type": "code",
   "execution_count": 22,
   "id": "656ac21b",
   "metadata": {},
   "outputs": [
    {
     "data": {
      "text/plain": [
       "'{\"1\": {\"Name\": \"5 Star\", \"Price\": 10, \"Qn\": \"98\"}, \"2\": {\"Name\": \"Milky Bar\", \"Price\": 20, \"Qn\": 50}, \"3\": {\"Name\": \"Munch\", \"Price\": 5, \"Qn\": 100}, \"4\": {\"Name\": \"Cake\", \"Price\": 100, \"Qn\": 10}}'"
      ]
     },
     "execution_count": 22,
     "metadata": {},
     "output_type": "execute_result"
    }
   ],
   "source": [
    "js"
   ]
  },
  {
   "cell_type": "code",
   "execution_count": 24,
   "id": "9f07cde5",
   "metadata": {},
   "outputs": [
    {
     "data": {
      "text/plain": [
       "{'1': {'Name': '5 Star', 'Price': 10, 'Qn': '98'},\n",
       " '2': {'Name': 'Milky Bar', 'Price': 20, 'Qn': 50},\n",
       " '3': {'Name': 'Munch', 'Price': 5, 'Qn': 100},\n",
       " '4': {'Name': 'Cake', 'Price': 100, 'Qn': 10}}"
      ]
     },
     "execution_count": 24,
     "metadata": {},
     "output_type": "execute_result"
    }
   ],
   "source": [
    "json.loads(js)"
   ]
  },
  {
   "cell_type": "markdown",
   "id": "0663a810",
   "metadata": {},
   "source": [
    "**Complete Inventory Code**\n",
    "-\n"
   ]
  },
  {
   "cell_type": "code",
   "execution_count": 46,
   "id": "c2ce91e2",
   "metadata": {},
   "outputs": [
    {
     "name": "stdout",
     "output_type": "stream",
     "text": [
      "1 : 5 Star | Price:  10 | Quantity:  0\n",
      "2 : Milky Bar | Price:  20 | Quantity:  37\n",
      "3 : Munch | Price:  5 | Quantity:  89\n",
      "4 : Cake | Price:  100 | Quantity:  8\n",
      "----------------------------------------\n",
      "\n",
      "\n",
      "Product    :         Munch\n",
      "Quantity   :         1\n",
      "Price      :         5\n",
      "Bill Amount:         5\n"
     ]
    }
   ],
   "source": [
    "import time\n",
    "fd=open(\"record.json\",\"r\")\n",
    "js=fd.read()\n",
    "fd.close()\n",
    "\n",
    "record= json.loads(js)\n",
    "for key in record.keys():\n",
    "    print(key, \":\", record[key][\"Name\"], \"|\",  \"Price: \", record[key][\"Price\"], \"|\", \"Quantity: \", record[key][\"Qn\"])\n",
    "print(\"-\"*40)\n",
    "print(\"\\n\")\n",
    "\n",
    "user_name=str(input(\"Enter your name: \"))\n",
    "phno=int(input(\"Enter your phone number: \"))\n",
    "\n",
    "ui_prod_id=str(input(\"Enter the product id: \"))\n",
    "ui_prod_qt=str(input(\"Enter the quantity  : \"))\n",
    "\n",
    "if int(ui_prod_qt) <= int(record[ui_prod_id][\"Qn\"]):\n",
    "    print(f\"Product    :         {record[ui_prod_id][\"Name\"]}\")\n",
    "    print(f\"Quantity   :         {ui_prod_qt}\")\n",
    "    print(f\"Price      :         {record[ui_prod_id][\"Price\"]}\")\n",
    "    print(f\"Bill Amount:         {int(record[ui_prod_id][\"Price\"])*int(ui_prod_qt)}\")\n",
    "\n",
    "    record[ui_prod_id][\"Qn\"] =int(record[ui_prod_id][\"Qn\"]) - int(ui_prod_qt)\n",
    "    \n",
    "    sale_record= user_name + \",\" + str(phno) + \",\" + str(record[ui_prod_id][\"Name\"]) + \",\" + str(ui_prod_qt) + \",\" + str(record[ui_prod_id][\"Price\"]) + \",\" + str(int(record[ui_prod_id][\"Price\"])*int(ui_prod_qt)) + \",\" + time.ctime() + \"\\n\"\n",
    "                 \n",
    "    cd=open('Sale_json.txt','a')\n",
    "    cd.write(sale_record)\n",
    "    cd.close()\n",
    "\n",
    "else:\n",
    "    print(\"Insufficient stock available\")\n",
    "    ch=input(\"Do you want to purchase the Whole stock? (y/n): \")\n",
    "    if ch=='Y' or ch=='y':\n",
    "        print(f\"Product    :         {record[ui_prod_id][\"Name\"]}\")\n",
    "        print(f\"Quantity   :         {record[ui_prod_id][\"Qn\"]}\")\n",
    "        print(f\"Price      :         {record[ui_prod_id][\"Price\"]}\")\n",
    "        print(f\"Bill Amount:         {int(record[ui_prod_id][\"Price\"])*int(record[ui_prod_id][\"Qn\"])}\")\n",
    "\n",
    "        record[ui_prod_id][\"Qn\"] =int(0)\n",
    "        sale_record= user_name + \",\" + str(phno) + \",\" + str(record[ui_prod_id][\"Name\"]) + \",\" + str(record[ui_prod_id][\"Qn\"]) + \",\" + str(record[ui_prod_id][\"Price\"]) + \",\" + str(int(record[ui_prod_id][\"Price\"])*int(record[ui_prod_id][\"Name\"])) + \",\" + time.ctime() + \"\\n\"\n",
    "        cd=open('Sale_json.txt','a')\n",
    "        cd.write(sale_record)\n",
    "        cd.close()\n",
    "\n",
    "js= json.dumps(record)\n",
    "\n",
    "fd=open(\"record.json\", \"w\")\n",
    "fd.write(js)\n",
    "fd.close()"
   ]
  },
  {
   "cell_type": "code",
   "execution_count": 38,
   "id": "0a3093b4",
   "metadata": {},
   "outputs": [
    {
     "name": "stdout",
     "output_type": "stream",
     "text": [
      "1 : 5 Star | Price:  10 | Quantity:  0\n",
      "2 : Milky Bar | Price:  20 | Quantity:  50\n",
      "3 : Munch | Price:  5 | Quantity:  100\n",
      "4 : Cake | Price:  100 | Quantity:  10\n"
     ]
    }
   ],
   "source": [
    "fd= open(\"record.json\",\"r\")\n",
    "js=fd.read()\n",
    "fd.close()\n",
    "\n",
    "record= json.loads(js)\n",
    "for key in record.keys():\n",
    "    print(key, \":\", record[key][\"Name\"], \"|\",  \"Price: \", record[key][\"Price\"], \"|\", \"Quantity: \", record[key][\"Qn\"])"
   ]
  },
  {
   "cell_type": "code",
   "execution_count": null,
   "id": "cb4fbb28",
   "metadata": {},
   "outputs": [
    {
     "ename": "JSONDecodeError",
     "evalue": "Extra data: line 1 column 108 (char 107)",
     "output_type": "error",
     "traceback": [
      "\u001b[31m---------------------------------------------------------------------------\u001b[39m",
      "\u001b[31mJSONDecodeError\u001b[39m                           Traceback (most recent call last)",
      "\u001b[36mCell\u001b[39m\u001b[36m \u001b[39m\u001b[32mIn[44]\u001b[39m\u001b[32m, line 4\u001b[39m\n\u001b[32m      2\u001b[39m js=fd.read()\n\u001b[32m      3\u001b[39m fd.close()\n\u001b[32m----> \u001b[39m\u001b[32m4\u001b[39m record=\u001b[43mjson\u001b[49m\u001b[43m.\u001b[49m\u001b[43mloads\u001b[49m\u001b[43m(\u001b[49m\u001b[43mjs\u001b[49m\u001b[43m)\u001b[49m\n\u001b[32m      5\u001b[39m \u001b[38;5;28mprint\u001b[39m(record)\n",
      "\u001b[36mFile \u001b[39m\u001b[32mc:\\Program Files\\Python313\\Lib\\json\\__init__.py:346\u001b[39m, in \u001b[36mloads\u001b[39m\u001b[34m(s, cls, object_hook, parse_float, parse_int, parse_constant, object_pairs_hook, **kw)\u001b[39m\n\u001b[32m    341\u001b[39m     s = s.decode(detect_encoding(s), \u001b[33m'\u001b[39m\u001b[33msurrogatepass\u001b[39m\u001b[33m'\u001b[39m)\n\u001b[32m    343\u001b[39m \u001b[38;5;28;01mif\u001b[39;00m (\u001b[38;5;28mcls\u001b[39m \u001b[38;5;129;01mis\u001b[39;00m \u001b[38;5;28;01mNone\u001b[39;00m \u001b[38;5;129;01mand\u001b[39;00m object_hook \u001b[38;5;129;01mis\u001b[39;00m \u001b[38;5;28;01mNone\u001b[39;00m \u001b[38;5;129;01mand\u001b[39;00m\n\u001b[32m    344\u001b[39m         parse_int \u001b[38;5;129;01mis\u001b[39;00m \u001b[38;5;28;01mNone\u001b[39;00m \u001b[38;5;129;01mand\u001b[39;00m parse_float \u001b[38;5;129;01mis\u001b[39;00m \u001b[38;5;28;01mNone\u001b[39;00m \u001b[38;5;129;01mand\u001b[39;00m\n\u001b[32m    345\u001b[39m         parse_constant \u001b[38;5;129;01mis\u001b[39;00m \u001b[38;5;28;01mNone\u001b[39;00m \u001b[38;5;129;01mand\u001b[39;00m object_pairs_hook \u001b[38;5;129;01mis\u001b[39;00m \u001b[38;5;28;01mNone\u001b[39;00m \u001b[38;5;129;01mand\u001b[39;00m \u001b[38;5;129;01mnot\u001b[39;00m kw):\n\u001b[32m--> \u001b[39m\u001b[32m346\u001b[39m     \u001b[38;5;28;01mreturn\u001b[39;00m \u001b[43m_default_decoder\u001b[49m\u001b[43m.\u001b[49m\u001b[43mdecode\u001b[49m\u001b[43m(\u001b[49m\u001b[43ms\u001b[49m\u001b[43m)\u001b[49m\n\u001b[32m    347\u001b[39m \u001b[38;5;28;01mif\u001b[39;00m \u001b[38;5;28mcls\u001b[39m \u001b[38;5;129;01mis\u001b[39;00m \u001b[38;5;28;01mNone\u001b[39;00m:\n\u001b[32m    348\u001b[39m     \u001b[38;5;28mcls\u001b[39m = JSONDecoder\n",
      "\u001b[36mFile \u001b[39m\u001b[32mc:\\Program Files\\Python313\\Lib\\json\\decoder.py:347\u001b[39m, in \u001b[36mJSONDecoder.decode\u001b[39m\u001b[34m(self, s, _w)\u001b[39m\n\u001b[32m    345\u001b[39m end = _w(s, end).end()\n\u001b[32m    346\u001b[39m \u001b[38;5;28;01mif\u001b[39;00m end != \u001b[38;5;28mlen\u001b[39m(s):\n\u001b[32m--> \u001b[39m\u001b[32m347\u001b[39m     \u001b[38;5;28;01mraise\u001b[39;00m JSONDecodeError(\u001b[33m\"\u001b[39m\u001b[33mExtra data\u001b[39m\u001b[33m\"\u001b[39m, s, end)\n\u001b[32m    348\u001b[39m \u001b[38;5;28;01mreturn\u001b[39;00m obj\n",
      "\u001b[31mJSONDecodeError\u001b[39m: Extra data: line 1 column 108 (char 107)"
     ]
    }
   ],
   "source": [
    "fd=open('Sale_json.txt','r')\n",
    "js=fd.read()\n",
    "fd.close()\n",
    "record=json.loads(js)\n",
    "print(record)"
   ]
  }
 ],
 "metadata": {
  "kernelspec": {
   "display_name": "Python 3",
   "language": "python",
   "name": "python3"
  },
  "language_info": {
   "codemirror_mode": {
    "name": "ipython",
    "version": 3
   },
   "file_extension": ".py",
   "mimetype": "text/x-python",
   "name": "python",
   "nbconvert_exporter": "python",
   "pygments_lexer": "ipython3",
   "version": "3.13.0"
  }
 },
 "nbformat": 4,
 "nbformat_minor": 5
}
